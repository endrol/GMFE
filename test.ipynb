{
 "cells": [
  {
   "cell_type": "code",
   "execution_count": 8,
   "metadata": {},
   "outputs": [],
   "source": [
    "import yaml\n",
    "from pathlib import Path"
   ]
  },
  {
   "cell_type": "code",
   "execution_count": 9,
   "metadata": {},
   "outputs": [],
   "source": [
    "cfg = yaml.safe_load(Path('/home/daming/workspace/nablas/jsw/GMFE/config.yaml').read_text())"
   ]
  },
  {
   "cell_type": "code",
   "execution_count": 10,
   "metadata": {},
   "outputs": [
    {
     "data": {
      "text/plain": [
       "{'params': {'gpu': 0,\n",
       "  'condition': 1,\n",
       "  'num_bearing': 5,\n",
       "  'test_bearing': 2,\n",
       "  'epoch': 40,\n",
       "  'n_channels': 2,\n",
       "  'batch_size': 64,\n",
       "  'lr': '1e-4',\n",
       "  'discriminator_lr': '1e-4',\n",
       "  'lambda_unet': 20.0,\n",
       "  'lambda_domain': 1.0,\n",
       "  'mode': 'train_unet',\n",
       "  'resize_width': 128,\n",
       "  'resize_height': 128,\n",
       "  'dropout': 1,\n",
       "  'dataset': 'xjtu'},\n",
       " 'data': {'xjtu_dir': '/home/daming/workspace/nablas/jsw/data/XJTU_SY_DATA/Data/XJTU-SY_Bearing_Datasets'}}"
      ]
     },
     "execution_count": 10,
     "metadata": {},
     "output_type": "execute_result"
    }
   ],
   "source": [
    "cfg"
   ]
  },
  {
   "cell_type": "code",
   "execution_count": null,
   "metadata": {},
   "outputs": [],
   "source": []
  }
 ],
 "metadata": {
  "kernelspec": {
   "display_name": "torch",
   "language": "python",
   "name": "python3"
  },
  "language_info": {
   "codemirror_mode": {
    "name": "ipython",
    "version": 3
   },
   "file_extension": ".py",
   "mimetype": "text/x-python",
   "name": "python",
   "nbconvert_exporter": "python",
   "pygments_lexer": "ipython3",
   "version": "3.9.5 (default, Jun  4 2021, 12:28:51) \n[GCC 7.5.0]"
  },
  "orig_nbformat": 4,
  "vscode": {
   "interpreter": {
    "hash": "e3732b2e6d666c872da8b67228405b9cfa0c088a61ad1b88fd435887ee67c2ce"
   }
  }
 },
 "nbformat": 4,
 "nbformat_minor": 2
}
